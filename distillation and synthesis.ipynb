{
 "cells": [
  {
   "cell_type": "code",
   "execution_count": 34,
   "metadata": {},
   "outputs": [],
   "source": [
    "import numpy as np\n",
    "import itertools\n",
    "def logical_error_rate(p_phy, d):\n",
    "    if d%2 == 1:\n",
    "        return 0.1 * (p_phy / 0.01)**(0.5 * d + 0.5)\n",
    "    else:\n",
    "        return 0.05 * (d*d)/(d-1)/(d-1) * (p_phy / 0.01)**(0.5 * d)\n",
    "    \n",
    "def logical_error_retangle(dz, dx, p_phy):\n",
    "    logical_error_z = 0.5 * (dx/dz) * logical_error_rate(p_phy, dz)\n",
    "    logical_error_x = 0.5 * (dz/dx) * logical_error_rate(p_phy, dx)\n",
    "    return logical_error_z, logical_error_x\n",
    "\n",
    "def distillation_code_distance(eps, p_phy):\n",
    "    for d in range(3,50,2):\n",
    "        if 6.5 * d * logical_error_rate(p_phy, d) < eps:\n",
    "            return d\n",
    "\n",
    "# def logical_error_rate(code_distance, physical_error_rate=0.001):\n",
    "#     return 0.1*(physical_error_rate/0.01)**((code_distance+1)/2)\n",
    "\n",
    "# def code_distance(logical_error_rate, physical_error_rate=0.001):\n",
    "#     exponent = np.log(logical_error_rate*10)/np.log(physical_error_rate/0.01)\n",
    "#     return max(int(np.ceil(exponent))*2-1, 1)\n",
    "\n",
    "def search_t_protocol(target_error_rate, p_phy):\n",
    "    t_error_range = []\n",
    "    initial_t_error_range = []\n",
    "    if p_phy == 0.001:\n",
    "        eps = [0.0004, 8e-05, 7e-06, 5e-06, 3e-06, 2e-07, 3e-08, 1e-08, 6e-09, 2e-09, 1e-09, \n",
    "             3.8850000000000016e-10, 3.304716553287983e-10, 1.2955e-12, 1.2178655692729767e-12, 4.405000000000001e-14,\n",
    "             3.563400713436386e-14, 4.815000000000002e-15, 3.9081789802289295e-15, 1.2225000000000002e-15, 1.1252984389348027e-15, \n",
    "             1.3475000000000002e-16, 5.0750000000000023e-17, 4.03781224489796e-17]\n",
    "        volume = [1000, 4000, 5000, 6000, 8000, 20000, 30000, 40000, 50000, 60000, 100000, \n",
    "             2199074, 2523632, 4685822, 5216768, 5827026, 6438000, 7131094, 7827712, 8609258, 9397136, 10272750, 10432750, 11317504]\n",
    "    elif p_phy == 0.0005:\n",
    "        eps=[1e-5, 8e-7,3e-07, 2e-07, 1e-08, 1e-09, 4e-11, 3.7260546875000005e-12, 3.2233414127423824e-12, 1.186650390625e-12, \n",
    "             1.1583162379535146e-12,2.9983642578125002e-15, 2.91156640625e-15, 3.871166992187501e-17, 3.3973240312071337e-17, \n",
    "             7.554645996093752e-20,6.170946930280958e-20]\n",
    "        volume=[2000, 3500, 4000, 4500, 8000.0, 10000.0, 20000.0, 1621006, 1888000, 2185074, 2509632, 3688250.0, 4144784.0, \n",
    "                4645822.0, 5176768.0,7051094.0, 7747712.0]\n",
    "    \n",
    "    for i, t_error in enumerate(eps): \n",
    "        s = 8 * t_error ** 2\n",
    "        if s < 1.5 * target_error_rate:\n",
    "            t_error_range.append([eps[i],volume[i]])\n",
    "        if len(t_error_range) >= 6:\n",
    "            break\n",
    "    for i, t_error in enumerate(eps): \n",
    "        s = t_error\n",
    "        if s < 1.5 * target_error_rate:\n",
    "            initial_t_error_range.append([eps[i],volume[i]])\n",
    "        if len(initial_t_error_range) >= 6:\n",
    "            break\n",
    "    return t_error_range, initial_t_error_range #length = 6\n",
    "\n",
    "\n",
    "def MEK(d, t_error, rl_1_error, ml_error, t_volume, rl_1_volume, ml_volume, p_phy): # Campbell-1603.04230\n",
    "    # ml_error 输入态的error\n",
    "    # rl_1_error R l-1 门的error（包含修正）\n",
    "    pass_rate = 1 - 8 * t_error - 2 * ml_error - 0.5 * rl_1_error\n",
    "    pass_rate += 96 * logical_error_rate(p_phy, d)\n",
    "    \n",
    "    error_rate = 8 * t_error ** 2 + ml_error ** 2 + rl_1_error / 4\n",
    "    error_rate += 0.5 * logical_error_rate(p_phy, d)\n",
    "    \n",
    "    \n",
    "    depth = 20 * d\n",
    "    footprint = 2 * 16 * d ** 2\n",
    "    \n",
    "    volume = (footprint * depth + 8 * t_volume + 2 * ml_volume + rl_1_volume) / pass_rate / 2\n",
    "\n",
    "    return error_rate, volume\n",
    "\n",
    "def mek_level_one(d, t_error, initial_t_error, t_volume,initial_t_volume, ll, p_phy): # d, t_error, ll>=4\n",
    "    ml_error = 7 / 15 * p_phy\n",
    "    ml_volume = 0\n",
    "    rl_1_error = initial_t_error\n",
    "    rl_1_volume = initial_t_volume\n",
    "    error_rates = [initial_t_error]\n",
    "    volumes = [initial_t_volume]\n",
    "    for l in range(4, ll+1):\n",
    "        error_rate, volume = MEK(d, t_error, rl_1_error, ml_error, t_volume, rl_1_volume, ml_volume, p_phy)\n",
    "        error_rates.append(error_rate)\n",
    "        volumes.append(volume)\n",
    "        rl_1_error = rl_1_error * 0.5 + error_rate\n",
    "        rl_1_volume = rl_1_volume * 0.5 + volume\n",
    "    return error_rates, volumes\n",
    "\n",
    "def mek_level_two(d1,d2, t_error1, initial_t_error1, t_volume1,initial_t_volume1,t_error2, initial_t_error2, \n",
    "                  t_volume2, initial_t_volume2, ll, p_phy): \n",
    "    error_rates_one, volumes_one = mek_level_one(d1, t_error1, initial_t_error1, initial_t_volume1, t_volume1, 25, p_phy)#限定最大L=25\n",
    "    error_rates = [initial_t_error2]\n",
    "    volumes = [initial_t_volume2]\n",
    "    rl_1_error = initial_t_error2\n",
    "    rl_1_volume = initial_t_volume2\n",
    "    for l in range(4, ll+1):\n",
    "        ml_error = error_rates_one[l-3]\n",
    "        ml_volume = volumes_one[l-3]\n",
    "        error_rate, volume = MEK(d2, t_error2, rl_1_error, ml_error, t_volume2, rl_1_volume, ml_volume, p_phy)\n",
    "        error_rates.append(error_rate)\n",
    "        volumes.append(volume)\n",
    "        rl_1_error = rl_1_error * 0.5 + error_rate\n",
    "        rl_1_volume = rl_1_volume * 0.5 + volume\n",
    "    return error_rates, volumes\n",
    "\n",
    "def mek_level_three(d1,d2,d3, t_error1, initial_t_error1,t_volume1,initial_t_volume1,t_error2, initial_t_error2, \n",
    "                    t_volume2, initial_t_volume2,  t_error3, initial_t_error3, t_volume3, initial_t_volume3, ll, p_phy): \n",
    "    error_rates_two, volumes_two = mek_level_two(d1,d2, t_error1, initial_t_error1, initial_t_volume1, t_volume1,t_error2,\n",
    "                                                 initial_t_error2, initial_t_volume2, t_volume2, 25, p_phy)#限定最大L=25\n",
    "    error_rates = [initial_t_error3]\n",
    "    volumes = [initial_t_volume3]\n",
    "    rl_1_error = initial_t_error3\n",
    "    rl_1_volume = initial_t_volume3\n",
    "    for l in range(4, ll+1):\n",
    "        ml_error = error_rates_two[l-3]\n",
    "        ml_volume = volumes_two[l-3]\n",
    "        error_rate, volume = MEK(d2, t_error2, rl_1_error, ml_error, t_volume2, rl_1_volume, ml_volume, p_phy)\n",
    "        error_rates.append(error_rate)\n",
    "        volumes.append(volume)\n",
    "        rl_1_error = rl_1_error * 0.5 + error_rate\n",
    "        rl_1_volume = rl_1_volume * 0.5 + volume\n",
    "    return error_rates, volumes\n",
    "\n",
    "def search_mek_level_two(ll, target_error_rate, p_phy):#搜索t_error，d用梯度下降\n",
    "    parameters = [\"fail\",float(\"inf\")] \n",
    "    t_error_range2, initial_t_error_range2 = search_t_protocol(target_error_rate, p_phy)\n",
    "    t_error_range1, initial_t_error_range1 = search_t_protocol(target_error_rate**0.5, p_phy)\n",
    "    for t_error1, t_volume1 in t_error_range1:\n",
    "        for initial_t_error1, initial_t_volume1 in initial_t_error_range1:\n",
    "            for t_error2, t_volume2 in t_error_range2:\n",
    "                for initial_t_error2, initial_t_volume2 in initial_t_error_range2:\n",
    "                    d_target = [41,41] #d1,d2\n",
    "                    d_step = [1,1] #搜索步长\n",
    "                    for i in range(len(d_target)):\n",
    "                        d_range0 = [41,41]\n",
    "                        for j in range(d_target[i]//d_step[i]):\n",
    "                            d1,d2= d_range0\n",
    "                            error_rates, volumes = mek_level_two(d1,d2, t_error1, initial_t_error1, t_volume1,initial_t_volume1,\n",
    "                                                                 t_error2, initial_t_error2, t_volume2, initial_t_volume2, ll, p_phy)\n",
    "                            if error_rates[-1] < target_error_rate:\n",
    "                                d_target[i] = d_range0[i]\n",
    "                                d_range0[i] -= d_step[i]\n",
    "                            else:\n",
    "                                break\n",
    "                    d1,d2 = d_target\n",
    "                    d_set = list(itertools.product([d1,d1+2],[d2,d2+2]))\n",
    "                    for dd1, dd2 in d_set:\n",
    "                        error_rates, volumes = mek_level_two(dd1,dd2, t_error1, initial_t_error1, t_volume1,initial_t_volume1,\n",
    "                                                         t_error2, initial_t_error2, t_volume2, initial_t_volume2, ll, p_phy)\n",
    "                        if error_rates[-1] < target_error_rate and volumes[-1] < parameters[-1]:\n",
    "                                parameters = [dd1,dd2, t_error1, initial_t_error1, t_volume1,initial_t_volume1,\n",
    "                                              t_error2, initial_t_error2, t_volume2, initial_t_volume2, error_rates[-1], volumes[-1]]\n",
    "    return parameters\n",
    "    \n",
    "    \n",
    "    \n",
    "def search_mek_level_three(ll, target_error_rate, p_phy):#搜索t_error，d用梯度下降\n",
    "    parameters = [\"fail\",float(\"inf\")] \n",
    "    t_error_range3, initial_t_error_range3 = search_t_protocol(target_error_rate, p_phy)\n",
    "    t_error_range2, initial_t_error_range2 = search_t_protocol(target_error_rate**0.5, p_phy)\n",
    "    t_error_range1, initial_t_error_range1 = search_t_protocol((target_error_rate**0.5)**0.5, p_phy)\n",
    "    for t_error1, t_volume1 in t_error_range1:\n",
    "        for initial_t_error1, initial_t_volume1 in initial_t_error_range1:\n",
    "            for t_error2, t_volume2 in t_error_range2:\n",
    "                for initial_t_error2, initial_t_volume2 in initial_t_error_range2:\n",
    "                    for t_error3, t_volume3 in t_error_range3:\n",
    "                        for initial_t_error3, initial_t_volume3 in initial_t_error_range3:\n",
    "                            d_target = [41,41,41] #d1,d2\n",
    "                            d_step = [1,1,1] #搜索步长\n",
    "                            for i in range(len(d_target)):\n",
    "                                d_range0 = [41,41,41]\n",
    "                                for j in range(d_target[i]//d_step[i]):\n",
    "                                    d1,d2,d3= d_range0\n",
    "                                    error_rates, volumes = mek_level_three(d1,d2,d3, t_error1, initial_t_error1,t_volume1,initial_t_volume1,\n",
    "                                                                           t_error2, initial_t_error2, t_volume2, initial_t_volume2,  t_error3, \n",
    "                                                                           initial_t_error3, t_volume3, initial_t_volume3, ll, p_phy)\n",
    "                                    if error_rates[-1] < target_error_rate:\n",
    "                                        d_target[i] = d_range0[i]\n",
    "                                        d_range0[i] -= d_step[i]\n",
    "                                    else:\n",
    "                                        break\n",
    "                            d1,d2,d3 = d_target\n",
    "                            d_set = list(itertools.product([d1,d1+2],[d2,d2+2],[d3,d3+2]))\n",
    "                            for dd1, dd2, dd3 in d_set:\n",
    "                                error_rates, volumes = mek_level_three(dd1,dd2,dd3, t_error1, initial_t_error1,t_volume1,initial_t_volume1,\n",
    "                                                                           t_error2, initial_t_error2, t_volume2, initial_t_volume2,  t_error3, \n",
    "                                                                           initial_t_error3, t_volume3, initial_t_volume3, ll, p_phy)\n",
    "                                if error_rates[-1] < target_error_rate and volumes[-1] < parameters[-1]:\n",
    "                                        parameters = [dd1,dd2,dd3, t_error1, initial_t_error1,t_volume1,initial_t_volume1,\n",
    "                                                                           t_error2, initial_t_error2, t_volume2, initial_t_volume2,  t_error3, \n",
    "                                                                           initial_t_error3, t_volume3, initial_t_volume3, error_rates[-1], volumes[-1]]\n",
    "    return parameters"
   ]
  },
  {
   "cell_type": "code",
   "execution_count": 25,
   "metadata": {},
   "outputs": [
    {
     "data": {
      "text/plain": [
       "(0.0007669903939428206,\n",
       " 0.02454369260617026,\n",
       " 0.006135923151542565,\n",
       " 9.362675707309822e-08)"
      ]
     },
     "execution_count": 25,
     "metadata": {},
     "output_type": "execute_result"
    }
   ],
   "source": [
    "np.pi/2**12,np.pi/2**7, np.pi/2**9, np.pi/2**25"
   ]
  },
  {
   "cell_type": "code",
   "execution_count": 3,
   "metadata": {},
   "outputs": [
    {
     "name": "stdout",
     "output_type": "stream",
     "text": [
      "4 9.323070074911609e-13 5935354.856282866\n",
      "5 9.92773809701025e-13 8319532.407568745\n",
      "6 8.968789864090455e-13 11049669.005112411\n",
      "7 8.61451692858505e-13 13574631.156403974\n",
      "8 9.065540551914748e-13 16226986.134095533\n",
      "9 9.463197979874926e-13 19006383.228704613\n",
      "10 9.806417659969662e-13 21912884.844523806\n",
      "11 9.978352154165215e-13 25126542.21948627\n",
      "12 9.90716428482739e-13 28878042.641512465\n",
      "13 8.218726150788152e-13 34081834.639264464\n",
      "14 8.420814884802837e-13 37743974.27925465\n",
      "15 8.588375182183858e-13 41534091.98287816\n",
      "16 8.726061627339391e-13 45452288.09274603\n",
      "17 8.838350390777448e-13 49498663.03155925\n",
      "18 8.929341527211688e-13 53673317.30211494\n",
      "19 9.002669524310033e-13 57976351.48725948\n",
      "20 9.061481099271291e-13 62407866.24981598\n",
      "21 9.108452640971737e-13 66967962.332503565\n",
      "22 9.145829105021532e-13 71656740.55785938\n",
      "23 9.17547268149807e-13 76474301.82816969\n",
      "24 9.198913994777064e-13 81420747.12541339\n",
      "25 9.217401570823107e-13 86496177.51121926\n"
     ]
    }
   ],
   "source": [
    "for l in range(4, 26):\n",
    "    error_rates, volumes = search_mek_level_two(ll = l, target_error_rate = 1e-12, p_phy = 1e-3)[-2:]\n",
    "    print(l,error_rates, volumes)"
   ]
  },
  {
   "cell_type": "code",
   "execution_count": 2,
   "metadata": {},
   "outputs": [
    {
     "name": "stdout",
     "output_type": "stream",
     "text": [
      "4 9.103414907426698e-13 2809525.7219301634\n",
      "5 7.978610791141012e-13 3747955.3615733115\n",
      "6 8.72819805072941e-13 4705375.713829362\n",
      "7 9.401723887777299e-13 5693789.864059412\n",
      "8 9.991181290473867e-13 6713205.392127753\n",
      "9 9.504721220991922e-13 7780644.409942243\n",
      "10 9.911341894213873e-13 8888114.277798833\n",
      "11 9.99476133560076e-13 10765267.065367242\n",
      "12 8.769753587928336e-13 13010426.934259374\n",
      "13 8.775312200478859e-13 14549345.487878555\n",
      "14 7.161694015457578e-13 14686363.833560463\n",
      "15 7.199895301729789e-13 16112718.758389398\n",
      "16 7.230709144743589e-13 17583715.776902262\n",
      "17 7.255442257973096e-13 19099366.257820893\n",
      "18 7.275209463005363e-13 20659681.572888587\n",
      "19 7.290948075421507e-13 22264673.09685872\n",
      "20 7.303437043060949e-13 23914352.20748187\n",
      "21 7.313317582324339e-13 25608730.28549269\n",
      "22 7.321113379146911e-13 27347818.71459747\n",
      "23 7.327249289171489e-13 29131628.88146278\n",
      "24 7.332068028691749e-13 30960172.175705366\n",
      "25 7.335844694318611e-13 32833459.989883486\n"
     ]
    }
   ],
   "source": [
    "for l in range(4, 26):\n",
    "    error_rates, volumes = search_mek_level_two(ll = l, target_error_rate = 1e-12, p_phy = 5e-4)[-2:]\n",
    "    print(l,error_rates, volumes)\n"
   ]
  },
  {
   "cell_type": "code",
   "execution_count": 4,
   "metadata": {},
   "outputs": [
    {
     "name": "stdout",
     "output_type": "stream",
     "text": [
      "4 9.992660490449385e-10 1285910.6893036363\n",
      "5 9.772063250050622e-10 1980826.2543885268\n",
      "6 9.579182826522613e-10 2796185.935368079\n",
      "7 9.982764333535528e-10 3629765.877249147\n",
      "8 8.811955312564242e-10 4928564.803230946\n",
      "9 8.401265240781025e-10 5861464.967493751\n",
      "10 8.594849879258826e-10 6826484.612840274\n",
      "11 8.718356109954797e-10 7823910.669527167\n",
      "12 8.841551925263459e-10 8853626.285251355\n",
      "13 8.939929495374237e-10 9915815.223166836\n",
      "14 9.018209192406063e-10 11010478.80332807\n",
      "15 9.080297535503431e-10 12137618.349662669\n",
      "16 9.129401197233607e-10 13297235.191102693\n",
      "17 9.168133952460399e-10 14489330.661977015\n",
      "18 9.198613375615751e-10 15713906.101947028\n",
      "19 9.222545954305298e-10 16970962.855677065\n",
      "20 9.241300494873755e-10 18260502.272366956\n",
      "21 9.255970425996769e-10 19582525.70522925\n",
      "22 9.267426003739583e-10 20937034.51096277\n",
      "23 9.276357596044135e-10 22324030.049253076\n",
      "24 9.283311256865835e-10 23743513.682316355\n",
      "25 9.2887177470275e-10 25195486.77449408\n"
     ]
    }
   ],
   "source": [
    "for l in range(4, 26):\n",
    "    error_rates, volumes = search_mek_level_two(ll = l, target_error_rate = 1e-9, p_phy = 1e-3)[-2:]\n",
    "    print(l,error_rates, volumes)"
   ]
  },
  {
   "cell_type": "code",
   "execution_count": 5,
   "metadata": {},
   "outputs": [
    {
     "name": "stdout",
     "output_type": "stream",
     "text": [
      "4 8.739023297264202e-10 498900.15626140457\n",
      "5 9.9796922284615e-10 907058.9396785971\n",
      "6 9.642009177563714e-10 1296825.738581559\n",
      "7 9.232012047711445e-10 1657737.6658366732\n",
      "8 9.969501590429027e-10 2025624.7135735664\n",
      "9 8.920775142515376e-10 2994884.6052382933\n",
      "10 9.045287026260405e-10 3544217.3316796795\n",
      "11 9.138135739394673e-10 4123071.473634731\n",
      "12 9.207384001036253e-10 4731454.351166841\n",
      "13 9.259036376043151e-10 5369373.288944169\n",
      "14 9.297566944701545e-10 6036835.614606195\n",
      "15 9.326310672991063e-10 6733848.657705364\n",
      "16 9.347754134691851e-10 7460419.7490547495\n",
      "17 9.36375171928217e-10 8216556.2203572085\n",
      "18 3.653706139927807e-10 8958674.336425738\n",
      "19 3.6699877046649127e-10 9620655.652996035\n",
      "20 3.683266386114263e-10 10294571.115581932\n",
      "21 3.6940262638129546e-10 10980417.081850285\n",
      "22 3.7026969546209555e-10 11678189.913070444\n",
      "23 3.7096506342010075e-10 12387885.973729543\n",
      "24 3.715203931939213e-10 13109501.631191164\n",
      "25 3.719622457378285e-10 13843033.25539881\n"
     ]
    }
   ],
   "source": [
    "for l in range(4, 26):\n",
    "    error_rates, volumes = search_mek_level_two(ll = l, target_error_rate = 1e-9, p_phy = 5e-4)[-2:]\n",
    "    print(l,error_rates, volumes)"
   ]
  },
  {
   "cell_type": "code",
   "execution_count": 6,
   "metadata": {},
   "outputs": [
    {
     "name": "stdout",
     "output_type": "stream",
     "text": [
      "4 fail inf\n",
      "5 fail inf\n",
      "6 fail inf\n",
      "7 fail inf\n",
      "8 fail inf\n",
      "9 fail inf\n",
      "10 fail inf\n",
      "11 fail inf\n",
      "12 fail inf\n",
      "13 fail inf\n",
      "14 fail inf\n",
      "15 fail inf\n",
      "16 fail inf\n",
      "17 fail inf\n",
      "18 fail inf\n",
      "19 fail inf\n",
      "20 fail inf\n",
      "21 fail inf\n",
      "22 fail inf\n",
      "23 fail inf\n",
      "24 fail inf\n",
      "25 fail inf\n"
     ]
    }
   ],
   "source": [
    "for l in range(4, 26):\n",
    "    error_rates, volumes = search_mek_level_two(ll = l, target_error_rate = 1e-15, p_phy = 1e-3)[-2:]\n",
    "    print(l,error_rates, volumes)"
   ]
  },
  {
   "cell_type": "code",
   "execution_count": 7,
   "metadata": {},
   "outputs": [
    {
     "name": "stdout",
     "output_type": "stream",
     "text": [
      "4 fail inf\n",
      "5 fail inf\n",
      "6 fail inf\n",
      "7 fail inf\n",
      "8 fail inf\n",
      "9 fail inf\n",
      "10 fail inf\n",
      "11 fail inf\n",
      "12 fail inf\n",
      "13 fail inf\n",
      "14 fail inf\n",
      "15 fail inf\n",
      "16 fail inf\n",
      "17 fail inf\n",
      "18 fail inf\n",
      "19 fail inf\n",
      "20 fail inf\n",
      "21 fail inf\n",
      "22 fail inf\n",
      "23 fail inf\n",
      "24 fail inf\n",
      "25 fail inf\n"
     ]
    }
   ],
   "source": [
    "for l in range(4, 26):\n",
    "    error_rates, volumes = search_mek_level_two(ll = l, target_error_rate = 1e-15, p_phy = 5e-4)[-2:]\n",
    "    print(l,error_rates, volumes)"
   ]
  },
  {
   "cell_type": "code",
   "execution_count": 8,
   "metadata": {},
   "outputs": [
    {
     "name": "stdout",
     "output_type": "stream",
     "text": [
      "4 8.439846065895109e-16 56079250.889510356\n",
      "5 9.167009472781182e-16 104653646.21945538\n",
      "6 9.8755574384119e-16 164613875.28093535\n",
      "7 9.44991577426079e-16 236812709.33878466\n",
      "8 9.99802687171487e-16 320669969.7709414\n",
      "9 8.011490703740045e-16 421734168.0261643\n",
      "10 8.615175472054175e-16 529444524.4642771\n",
      "11 9.228234935250678e-16 648826569.9038798\n",
      "12 9.827444497588717e-16 779900858.1630558\n",
      "13 9.933617316428546e-16 923677867.2073131\n",
      "14 8.067843604211631e-16 1101494111.773857\n",
      "15 8.201500514311596e-16 1271433856.3818\n",
      "16 8.319961451104251e-16 1453420056.9137862\n",
      "17 8.42358804410346e-16 1647477761.8544402\n",
      "18 8.513215095297482e-16 1853631946.1811016\n",
      "19 8.589970720935495e-16 2071907512.3853543\n",
      "20 8.655135392645863e-16 2302329291.360427\n",
      "21 8.710037448768889e-16 2544922043.1701756\n",
      "22 8.755979921374187e-16 2799710457.7158346\n",
      "23 8.794192672199023e-16 3066719155.3159585\n",
      "24 8.825804021995515e-16 3345972687.213625\n",
      "25 8.851826758055333e-16 3637495536.023291\n"
     ]
    }
   ],
   "source": [
    "for l in range(4, 26):\n",
    "    error_rates, volumes = search_mek_level_three(ll = l, target_error_rate = 1e-15, p_phy = 1e-3)[-2:]\n",
    "    print(l,error_rates, volumes)"
   ]
  },
  {
   "cell_type": "code",
   "execution_count": 9,
   "metadata": {},
   "outputs": [
    {
     "name": "stdout",
     "output_type": "stream",
     "text": [
      "4 5.06384800872203e-16 29193417.509963434\n",
      "5 fail inf\n",
      "6 3.679086187698823e-16 86251953.01811187\n",
      "7 4.0201495404321215e-16 123781628.92048627\n",
      "8 4.275996442214797e-16 167349470.05521846\n",
      "9 4.467929705156482e-16 216964320.9774774\n",
      "10 4.611924207519985e-16 272635021.9538027\n",
      "11 4.719959902410594e-16 334370409.02519965\n",
      "12 4.801021304790416e-16 402179314.11684453\n",
      "13 4.861846853372178e-16 476070565.16729146\n",
      "14 4.907490729806803e-16 556052986.2606946\n",
      "15 4.941744076792488e-16 642135397.7525706\n",
      "16 4.967450813632003e-16 734326616.3841646\n",
      "17 4.986744436938205e-16 832635455.3833469\n",
      "18 5.0012255866067e-16 937070724.5517141\n",
      "19 5.012095203470718e-16 1047641230.3385625\n",
      "20 5.02025439197367e-16 1164355775.9029362\n",
      "21 5.026379318303348e-16 1287223161.165158\n",
      "22 5.030977388760879e-16 1416252182.8493018\n",
      "23 5.034429389978708e-16 1551451634.5179853\n",
      "24 5.037021100995157e-16 1692830306.6007373\n",
      "25 5.03896700899936e-16 1840396986.41705\n"
     ]
    }
   ],
   "source": [
    "for l in range(4, 26):\n",
    "    error_rates, volumes = search_mek_level_three(ll = l, target_error_rate = 1e-15, p_phy = 5e-4)[-2:]\n",
    "    print(l,error_rates, volumes)"
   ]
  },
  {
   "cell_type": "code",
   "execution_count": 10,
   "metadata": {},
   "outputs": [
    {
     "name": "stdout",
     "output_type": "stream",
     "text": [
      "4 7.756905163092865e-14 3992782.6647231868\n",
      "5 9.62863244274412e-14 5191887.876813458\n",
      "6 9.398478767020683e-14 6505455.3937657755\n",
      "7 4.198536480956279e-14 8598982.338957548\n",
      "8 4.449907149867788e-14 10149725.215688327\n",
      "9 4.6353394598165306e-14 11762941.272689719\n",
      "10 4.772093480316494e-14 13438647.517332021\n",
      "11 4.872919712442532e-14 15176860.961630471\n",
      "12 4.947235416694131e-14 16977598.62223125\n",
      "13 5.00199449458463e-14 18840877.520403508\n",
      "14 5.042330683638601e-14 20766714.682035487\n",
      "15 5.0720330735772606e-14 22755127.1376333\n",
      "16 5.09389760145739e-14 24806131.922321532\n",
      "17 5.1099868266767745e-14 26919746.075844843\n",
      "18 5.121821883176852e-14 29095986.642570242\n",
      "19 5.130524287518075e-14 31334870.67148964\n",
      "20 5.136920679685684e-14 33636415.21622254\n",
      "21 5.141620168272261e-14 36000637.33501871\n",
      "22 5.145071432119965e-14 38427554.0907608\n",
      "23 5.147604866440263e-14 40917182.55096679\n",
      "24 5.149463682500642e-14 43469539.78779233\n"
     ]
    }
   ],
   "source": [
    "for l in range(4, 25):\n",
    "    error_rates, volumes = search_mek_level_two(ll = l, target_error_rate = 1e-13, p_phy = 5e-4)[-2:]\n",
    "    print(l,error_rates, volumes)"
   ]
  },
  {
   "cell_type": "code",
   "execution_count": 11,
   "metadata": {},
   "outputs": [
    {
     "data": {
      "text/plain": [
       "(np.float64(69395306.88176204), 59987269.08953153)"
      ]
     },
     "execution_count": 11,
     "metadata": {},
     "output_type": "execute_result"
    }
   ],
   "source": [
    "sum([np.float64(4132198.9673255403), np.float64(5484545.057549819), np.float64(7169455.520702402), \n",
    " np.float64(9011242.639582045), np.float64(10966866.502004256),np.float64(15185539.716602026), np.float64(17445458.477995954)]),sum([4149889.7572538718,\n",
    "5380698.513351309,\n",
    "6668075.030034606,\n",
    "8012032.532553306,\n",
    "9412584.248533763,\n",
    "12383523.244963653,\n",
    "13980465.762841025])"
   ]
  },
  {
   "cell_type": "code",
   "execution_count": 28,
   "metadata": {},
   "outputs": [],
   "source": [
    "#T decomposition\n",
    "def T_decomposition(l, p_phy, infidelity):\n",
    "    if p_phy == 0.001:\n",
    "        eps = [0.0004, 8e-05, 7e-06, 5e-06, 3e-06, 2e-07, 3e-08, 1e-08, 6e-09, 2e-09, 1e-09, \n",
    "                 3.8850000000000016e-10, 3.304716553287983e-10, 1.2955e-12, 1.2178655692729767e-12, 4.405000000000001e-14,\n",
    "                 3.563400713436386e-14, 4.815000000000002e-15, 3.9081789802289295e-15, 1.2225000000000002e-15, 1.1252984389348027e-15, \n",
    "                 1.3475000000000002e-16, 5.0750000000000023e-17, 4.03781224489796e-17]\n",
    "        volume = [1000, 4000, 5000, 6000, 8000, 20000, 30000, 40000, 50000, 60000, 100000, \n",
    "                 2199074, 2523632, 4685822, 5216768, 5827026, 6438000, 7131094, 7827712, 8609258, 9397136, 10272750, 10432750, 11317504]\n",
    "    elif p_phy == 0.0005:\n",
    "        eps=[1e-5, 8e-7,3e-07, 2e-07, 1e-08, 1e-09, 4e-11, 3.7260546875000005e-12, 3.2233414127423824e-12, 1.186650390625e-12, \n",
    "                 1.1583162379535146e-12,2.9983642578125002e-15, 2.91156640625e-15, 3.871166992187501e-17, 3.3973240312071337e-17, \n",
    "                 7.554645996093752e-20,6.170946930280958e-20]\n",
    "        volume=[2000, 3500, 4000, 4500, 8000.0, 10000.0, 20000.0, 1621006, 1888000, 2185074, 2509632, 3688250.0, 4144784.0, \n",
    "                    4645822.0, 5176768.0,7051094.0, 7747712.0]\n",
    "\n",
    "    #infidelity = 1e-13\n",
    "    t_count = 3 * (l - 1 - np.log(np.pi)/np.log(2))\n",
    "    output1, output2 = 0, 0\n",
    "    for i,e in enumerate(eps):\n",
    "        if e * t_count <= infidelity * (l-2):\n",
    "            #print(e)\n",
    "            output1, output2 = e * t_count, t_count * volume[i]\n",
    "            break\n",
    "    #if output1==0:\n",
    "        #output1, output2 = e * t_count, t_count * volume[-1]\n",
    "    return output1, output2\n",
    "        \n"
   ]
  },
  {
   "cell_type": "code",
   "execution_count": null,
   "metadata": {},
   "outputs": [],
   "source": []
  },
  {
   "cell_type": "code",
   "execution_count": 29,
   "metadata": {},
   "outputs": [
    {
     "name": "stdout",
     "output_type": "stream",
     "text": [
      "4 (14920858.201421158)\n",
      "5 (25985608.20142116)\n",
      "6 (37050358.20142116)\n",
      "7 (48115108.20142116)\n",
      "8 (59179858.201421164)\n",
      "9 (70244608.20142117)\n",
      "10 (81309358.20142117)\n",
      "11 (92374108.20142117)\n",
      "12 (103438858.20142117)\n",
      "13 (114503608.20142117)\n",
      "14 (125568358.20142117)\n",
      "15 (136633108.20142117)\n",
      "16 (147697858.20142117)\n",
      "17 (158762608.20142117)\n",
      "18 (169827358.20142117)\n",
      "19 (180892108.20142114)\n",
      "20 (191956858.20142114)\n",
      "21 (203021608.20142114)\n",
      "22 (214086358.20142114)\n",
      "23 (225151108.20142114)\n",
      "24 (236215858.20142114)\n",
      "25 (247280608.20142114)\n"
     ]
    }
   ],
   "source": [
    "for l in range(4, 26):\n",
    "    error_rates, volumes = T_decomposition(l=l, p_phy=0.0005, infidelity=1e-12)\n",
    "    print(l,\"(\"+str(volumes)+\")\")"
   ]
  },
  {
   "cell_type": "code",
   "execution_count": 30,
   "metadata": {},
   "outputs": [
    {
     "name": "stdout",
     "output_type": "stream",
     "text": [
      "4 (23573301.343996294)\n",
      "5 (41054379.343996294)\n",
      "6 (58535457.343996294)\n",
      "7 (76016535.34399629)\n",
      "8 (93497613.3439963)\n",
      "9 (110978691.3439963)\n",
      "10 (128459769.3439963)\n",
      "11 (145940847.34399632)\n",
      "12 (163421925.34399632)\n",
      "13 (180903003.34399632)\n",
      "14 (198384081.34399632)\n",
      "15 (215865159.34399632)\n",
      "16 (233346237.34399632)\n",
      "17 (250827315.34399632)\n",
      "18 (268308393.34399632)\n",
      "19 (285789471.3439963)\n",
      "20 (303270549.3439963)\n",
      "21 (320751627.3439963)\n",
      "22 (338232705.3439963)\n",
      "23 (355713783.3439963)\n",
      "24 (373194861.3439963)\n",
      "25 (390675939.3439963)\n"
     ]
    }
   ],
   "source": [
    "for l in range(4, 26):\n",
    "    error_rates, volumes = T_decomposition(l=l, p_phy=0.001, infidelity=1e-12)\n",
    "    print(l,\"(\"+str(volumes)+\")\")"
   ]
  },
  {
   "cell_type": "code",
   "execution_count": 31,
   "metadata": {},
   "outputs": [
    {
     "name": "stdout",
     "output_type": "stream",
     "text": [
      "4 1.6182046446332172e-10 80910.23223166086\n",
      "5 2.818204644633217e-10 140910.23223166086\n",
      "6 4.018204644633217e-10 200910.23223166086\n",
      "7 5.218204644633217e-10 260910.23223166086\n",
      "8 6.418204644633218e-10 320910.2322316609\n",
      "9 7.618204644633218e-10 380910.2322316609\n",
      "10 8.818204644633218e-10 440910.2322316609\n",
      "11 1.0018204644633218e-09 500910.2322316609\n",
      "12 1.1218204644633218e-09 560910.2322316609\n",
      "13 1.2418204644633218e-09 620910.2322316609\n",
      "14 1.3618204644633218e-09 680910.2322316609\n",
      "15 1.4818204644633218e-09 740910.2322316609\n",
      "16 1.6018204644633218e-09 800910.2322316609\n",
      "17 1.7218204644633218e-09 860910.2322316609\n",
      "18 1.8418204644633218e-09 920910.2322316609\n",
      "19 1.9618204644633216e-09 980910.2322316607\n",
      "20 2.0818204644633216e-09 1040910.2322316607\n",
      "21 2.2018204644633216e-09 1100910.2322316607\n",
      "22 2.3218204644633216e-09 1160910.2322316607\n",
      "23 2.4418204644633216e-09 1220910.2322316607\n",
      "24 2.5618204644633216e-09 1280910.2322316607\n",
      "25 2.6818204644633216e-09 1340910.2322316607\n"
     ]
    }
   ],
   "source": [
    "for l in range(4, 26):\n",
    "    error_rates, volumes = T_decomposition(l=l, p_phy=0.0005, infidelity=1e-9)\n",
    "    print(l,error_rates, volumes)"
   ]
  },
  {
   "cell_type": "code",
   "execution_count": 32,
   "metadata": {},
   "outputs": [
    {
     "name": "stdout",
     "output_type": "stream",
     "text": [
      "4 1.5716812611000128e-09 8896379.40173037\n",
      "5 2.7371812611000134e-09 15493601.40173037\n",
      "6 3.902681261100014e-09 22090823.40173037\n",
      "7 4.311171816890908e-09 32922070.55936254\n",
      "8 5.302586782877304e-09 40492966.559362546\n",
      "9 6.294001748863698e-09 48063862.559362546\n",
      "10 7.285416714850093e-09 55634758.559362546\n",
      "11 8.276831680836488e-09 63205654.559362546\n",
      "12 9.268246646822883e-09 70776550.55936255\n",
      "13 1.0259661612809277e-08 78347446.55936255\n",
      "14 1.1251076578795674e-08 85918342.55936255\n",
      "15 1.2242491544782069e-08 93489238.55936255\n",
      "16 1.3233906510768463e-08 101060134.55936255\n",
      "17 1.4225321476754858e-08 108631030.55936255\n",
      "18 1.5216736442741255e-08 116201926.55936255\n",
      "19 1.6208151408727646e-08 123772822.55936253\n",
      "20 1.719956637471404e-08 131343718.55936253\n",
      "21 1.8190981340700436e-08 138914614.55936253\n",
      "22 1.918239630668683e-08 146485510.55936253\n",
      "23 2.0173811272673225e-08 154056406.55936253\n",
      "24 2.116522623865962e-08 161627302.55936253\n",
      "25 2.2156641204646015e-08 169198198.55936253\n"
     ]
    }
   ],
   "source": [
    "for l in range(4, 26):\n",
    "    error_rates, volumes = T_decomposition(l=l, p_phy=0.001, infidelity=1e-9)\n",
    "    print(l,error_rates, volumes)"
   ]
  },
  {
   "cell_type": "code",
   "execution_count": 33,
   "metadata": {},
   "outputs": [
    {
     "name": "stdout",
     "output_type": "stream",
     "text": [
      "4 1.566085101727154e-16 18794726.846347958\n",
      "5 2.7274351993834044e-16 32732192.846347958\n",
      "6 3.888785297039655e-16 46669658.84634796\n",
      "7 5.050135394695905e-16 60607124.84634796\n",
      "8 6.211485492352156e-16 74544590.84634796\n",
      "9 7.372835590008407e-16 88482056.84634796\n",
      "10 8.534185687664657e-16 102419522.84634796\n",
      "11 9.695535785320907e-16 116356988.84634796\n",
      "12 1.0856885882977158e-15 130294454.84634796\n",
      "13 1.2018235980633408e-15 144231920.84634796\n",
      "14 1.317958607828966e-15 158169386.84634796\n",
      "15 1.4340936175945909e-15 172106852.84634796\n",
      "16 1.5502286273602158e-15 186044318.84634796\n",
      "17 1.666363637125841e-15 199981784.84634796\n",
      "18 1.782498646891466e-15 213919250.84634796\n",
      "19 1.8986336566570907e-15 227856716.84634793\n",
      "20 2.014768666422716e-15 241794182.84634793\n",
      "21 2.130903676188341e-15 255731648.84634793\n",
      "22 2.2470386859539657e-15 269669114.8463479\n",
      "23 2.363173695719591e-15 283606580.8463479\n",
      "24 2.479308705485216e-15 297544046.8463479\n",
      "25 2.5954437152508408e-15 311481512.8463479\n"
     ]
    }
   ],
   "source": [
    "for l in range(4, 26):\n",
    "    error_rates, volumes = T_decomposition(l=l, p_phy=0.0005, infidelity=1e-15)\n",
    "    print(l,error_rates, volumes)   "
   ]
  },
  {
   "cell_type": "code",
   "execution_count": 17,
   "metadata": {},
   "outputs": [
    {
     "name": "stdout",
     "output_type": "stream",
     "text": [
      "4 5.451326896608151e-16 41558529.40788971\n",
      "5 9.493826896608152e-16 72376779.40788971\n",
      "6 1.3536326896608152e-15 103195029.40788971\n",
      "7 1.7578826896608152e-15 134013279.40788971\n",
      "8 2.1621326896608156e-15 164831529.40788972\n",
      "9 2.566382689660816e-15 195649779.40788972\n",
      "10 2.9706326896608157e-15 226468029.40788972\n",
      "11 3.374882689660816e-15 257286279.40788972\n",
      "12 3.779132689660816e-15 288104529.4078897\n",
      "13 4.183382689660816e-15 318922779.4078897\n",
      "14 4.587632689660816e-15 349741029.4078897\n",
      "15 4.991882689660816e-15 380559279.4078897\n",
      "16 5.396132689660816e-15 411377529.4078897\n",
      "17 5.800382689660816e-15 442195779.4078897\n",
      "18 6.204632689660816e-15 473014029.4078897\n",
      "19 6.6088826896608156e-15 503832279.40788966\n",
      "20 7.013132689660816e-15 534650529.40788966\n",
      "21 7.417382689660816e-15 565468779.4078896\n",
      "22 7.821632689660816e-15 596287029.4078896\n",
      "23 8.225882689660815e-15 627105279.4078896\n",
      "24 8.630132689660815e-15 657923529.4078896\n"
     ]
    }
   ],
   "source": [
    "for l in range(4, 26):\n",
    "    error_rates, volumes = T_decomposition(l=l, p_phy=0.001, infidelity=1e-15)\n",
    "    print(l,error_rates, volumes)"
   ]
  },
  {
   "cell_type": "code",
   "execution_count": 39,
   "metadata": {},
   "outputs": [
    {
     "data": {
      "text/plain": [
       "np.float64(82.04551161158304)"
      ]
     },
     "execution_count": 39,
     "metadata": {},
     "output_type": "execute_result"
    }
   ],
   "source": [
    "3 * (30- 1 - np.log(np.pi)/np.log(2))"
   ]
  },
  {
   "cell_type": "code",
   "execution_count": null,
   "metadata": {},
   "outputs": [],
   "source": []
  }
 ],
 "metadata": {
  "kernelspec": {
   "display_name": "Python (3.11)",
   "language": "python",
   "name": "py311"
  },
  "language_info": {
   "codemirror_mode": {
    "name": "ipython",
    "version": 3
   },
   "file_extension": ".py",
   "mimetype": "text/x-python",
   "name": "python",
   "nbconvert_exporter": "python",
   "pygments_lexer": "ipython3",
   "version": "3.11.13"
  }
 },
 "nbformat": 4,
 "nbformat_minor": 2
}
